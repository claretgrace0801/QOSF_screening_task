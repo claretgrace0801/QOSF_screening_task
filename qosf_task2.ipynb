{
  "nbformat": 4,
  "nbformat_minor": 0,
  "metadata": {
    "colab": {
      "name": "qosf.ipynb",
      "provenance": [],
      "collapsed_sections": []
    },
    "kernelspec": {
      "display_name": "Python 3",
      "name": "python3"
    },
    "language_info": {
      "name": "python"
    }
  },
  "cells": [
    {
      "cell_type": "markdown",
      "metadata": {
        "id": "5xG-5CE36j8Y"
      },
      "source": [
        "# Task 2\n",
        "\n",
        "### Training a Variational Circuit to transform random input states into predefined output states.\n",
        "\n",
        "(using pennylane)"
      ]
    },
    {
      "cell_type": "code",
      "metadata": {
        "id": "c0cGWSIn7ITw"
      },
      "source": [
        "import os\n",
        "\n",
        "try:\n",
        "  import pennylane as qml\n",
        "  from pennylane import numpy as np\n",
        "  from pennylane.optimize import NesterovMomentumOptimizer\n",
        "\n",
        "except:\n",
        "  os.system(\"pip install pennylane\")\n",
        "  os.system(\"pip install torch\")\n",
        "  import pennylane as qml\n",
        "  from pennylane import numpy as np\n",
        "  from pennylane.optimize import NesterovMomentumOptimizer\n"
      ],
      "execution_count": 1,
      "outputs": []
    },
    {
      "cell_type": "markdown",
      "metadata": {
        "id": "6uKrrKOE7st4"
      },
      "source": [
        "Target states given:\n",
        "1. |0011>\n",
        "2. |0101>\n",
        "3. |1010>\n",
        "4. |1100>\n",
        "\n",
        "Random input states taken:\n",
        "1. |0111>\n",
        "2. |1101>\n",
        "3. |0000>\n",
        "4. |1001>\n",
        "\n",
        "---\n",
        "\n"
      ]
    },
    {
      "cell_type": "code",
      "metadata": {
        "id": "vMa78hvkAHmq"
      },
      "source": [
        "input_states = [\"0111\", \"1101\", \"0000\", \"1001\"]\n",
        "target_states = [\"0011\", \"0101\", \"1010\", \"1100\"]\n",
        "\n",
        "n_qubits = 4\n",
        "np.random.seed(0)"
      ],
      "execution_count": 2,
      "outputs": []
    },
    {
      "cell_type": "markdown",
      "metadata": {
        "id": "ng8xJa8T9MHF"
      },
      "source": [
        "### Setting up constants\n",
        "\n",
        "We start by setting up some tweakable values for the QML algorithm.\n",
        "\n",
        "After testing out by trial and error a couple of times (and some intuition), these tweakable constants were fine for a good accuracy:\n",
        "\n"
      ]
    },
    {
      "cell_type": "code",
      "metadata": {
        "id": "7c4qv-Y89J12"
      },
      "source": [
        "# Tweakable Constants\n",
        "\n",
        "n_layers = 3\n",
        "steps = 200\n",
        "stepsize = 0.01\n",
        "momentum=0.7"
      ],
      "execution_count": 3,
      "outputs": []
    },
    {
      "cell_type": "code",
      "metadata": {
        "id": "VascYSq1WbbQ"
      },
      "source": [
        "# Some Helper functions\n",
        "\n",
        "# convert a string state into a list state\n",
        "def string_to_list(qubits):\n",
        "  parsed_list = []\n",
        "  for q in qubits:\n",
        "    parsed_list.append(1 if q == \"1\" else 0)\n",
        "  return parsed_list\n",
        "\n",
        "# convert the obtained expected value into a string\n",
        "def prediction_to_string(pred):\n",
        "  s = \"\"\n",
        "  for p in pred:\n",
        "    s += \"1\" if p < 0 else \"0\"\n",
        "  return s\n",
        "\n",
        "# convert the target states into the format appropriate for comparing with the expected values obtained\n",
        "def target_to_exp(state_id):\n",
        "  l = string_to_list(target_states[state_id])\n",
        "  return np.array([-1 if l[i] == 1 else 1 for i in range(len(target_states))])"
      ],
      "execution_count": 4,
      "outputs": []
    },
    {
      "cell_type": "markdown",
      "metadata": {
        "id": "Ok900Rvj-4Uw"
      },
      "source": [
        "### Circuit Construction\n",
        "\n",
        "The Circuit for our Variational Circuit Training algorithm consists of multiple layers.\n",
        "\n",
        "Each layer is made of RX, RY and RZ gates for each qubit (with variable arguments) followed by all the qubits CNOT'ed with each other.\n",
        "\n",
        "<b> Why is the construction like this? </b>\n",
        "\n",
        "We want to give our input state maximum freedom to transform into the target state.\n",
        "\n",
        "The RX, RY and RZ gates provide the ability to rotate arbitrarily along any axis. The CNOT gates make sure that the qubits are entangled with each other. \n",
        "\n",
        "These two things give freedom to the qubits to tranform however needed.\n",
        "\n",
        "In addition to this, having multiple layers gives even more freedom to get the required transformation."
      ]
    },
    {
      "cell_type": "code",
      "metadata": {
        "id": "oCehx9i_CrKc"
      },
      "source": [
        "# Circuit Construction\n",
        "\n",
        "def put_layers(weights):\n",
        "\n",
        "  for layer in range(n_layers):\n",
        "\n",
        "    for q in range(n_qubits):\n",
        "      # rotate arbitrarily along any axis\n",
        "      qml.RX(weights[layer, q, 0], wires=q)\n",
        "      qml.RY(weights[layer, q, 1], wires=q)\n",
        "      qml.RZ(weights[layer, q, 2], wires=q)\n",
        "    \n",
        "    for q in range(n_qubits):\n",
        "      qml.CNOT(wires=[q % n_qubits, (q+1) % n_qubits])\n",
        "\n",
        "# prepare the inital input state from string\n",
        "def prepare_states(state_id):\n",
        "  state = input_states[state_id]\n",
        "  qml.BasisState(np.array(string_to_list(state)), wires=[i for i in range(n_qubits)])"
      ],
      "execution_count": 5,
      "outputs": []
    },
    {
      "cell_type": "markdown",
      "metadata": {
        "id": "3224Qotq_AEG"
      },
      "source": [
        "After setting up appropriate gates, we find and return the expected value of the 4 qubits (using the PauliZ observable, of course). \n"
      ]
    },
    {
      "cell_type": "code",
      "metadata": {
        "id": "Mb64IZEyhOvl"
      },
      "source": [
        "# The actual Quantum Circuit\n",
        "\n",
        "dev = qml.device(\"default.qubit\", wires=n_qubits)\n",
        "\n",
        "@qml.qnode(dev)\n",
        "def circuit(weights, state_id):\n",
        "\n",
        "  prepare_states(state_id)\n",
        "  put_layers(weights)\n",
        "\n",
        "  # measure and return expected value\n",
        "  return [qml.expval(qml.PauliZ(i)) for i in range(n_qubits)]"
      ],
      "execution_count": 6,
      "outputs": []
    },
    {
      "cell_type": "markdown",
      "metadata": {
        "id": "P6ISHsJJENtt"
      },
      "source": [
        "An appropriate cost function is required by the optimizer.\n",
        "\n",
        "For our case, we will use the square mean loss function as defined below:\n",
        "\n",
        "(Also a bias is present to provide better optimization)\n",
        "\n",
        "<b>Why the square loss function?</b>\n",
        "\n",
        "An alternative would be to take the sum of absolute values of the components of the difference vector.\n",
        "\n",
        "But squaring is more useful as it supresses small losses and amplifies bigger losses."
      ]
    },
    {
      "cell_type": "code",
      "metadata": {
        "id": "59DbMmthZT6g"
      },
      "source": [
        "# The cost function\n",
        "\n",
        "def cost(params):\n",
        "  weights = params[0]\n",
        "  bias = params[1]\n",
        "  \n",
        "  total_cost = 0\n",
        "  \n",
        "  for state_id in range(len(input_states)):\n",
        "    exp = np.array(circuit(weights, state_id)) + bias\n",
        "    total_cost += np.mean( (target_to_exp(state_id) - exp) ** 2 )\n",
        "  \n",
        "  return total_cost"
      ],
      "execution_count": 7,
      "outputs": []
    },
    {
      "cell_type": "code",
      "metadata": {
        "id": "gJE1b8Wu9vNN"
      },
      "source": [
        "# Accuracy\n",
        "\n",
        "def accuracy(predictions):\n",
        "  total = len(target_states)\n",
        "  loss = 0\n",
        "\n",
        "  for state_id in range(len(target_states)):\n",
        "\n",
        "    if prediction_to_string(predictions[state_id]) != target_states[state_id]:\n",
        "      loss += 1\n",
        "  \n",
        "  return 1 - loss/total"
      ],
      "execution_count": 8,
      "outputs": []
    },
    {
      "cell_type": "code",
      "metadata": {
        "id": "my7KC0Ips1-t"
      },
      "source": [
        "# Final Circuit Tester\n",
        "\n",
        "def circuit_tester(weights, target=True):\n",
        "  print(\"Transformations done:\\n(input -> output)\\n\")\n",
        "\n",
        "  for state_id in range(len(input_states)):\n",
        "    prediction = circuit(weights, state_id)\n",
        "    print(f\"{input_states[state_id]} -> {prediction_to_string(prediction)}\")\n",
        "    if target:\n",
        "      print(f\"target: {target_states[state_id]}\\n\")"
      ],
      "execution_count": 9,
      "outputs": []
    },
    {
      "cell_type": "markdown",
      "metadata": {
        "id": "ie6M2XV-E1aK"
      },
      "source": [
        "Now that we have setup all the required functions, we initialise the optimizer.\n",
        "\n",
        "We use the NesterovMomentumOptimizer which is a gradient-descent optimizer with Nesterov momentum.\n",
        "\n",
        "We also define the parameters (initially random) that will be optimised later."
      ]
    },
    {
      "cell_type": "code",
      "metadata": {
        "id": "3H6pUtiwGTuI"
      },
      "source": [
        "# Optimisation initialisation\n",
        "\n",
        "opt = NesterovMomentumOptimizer(stepsize=stepsize, momentum=momentum)\n",
        "params = (0.01 * np.random.randn(n_layers, n_qubits, 3), 0.0)"
      ],
      "execution_count": 10,
      "outputs": []
    },
    {
      "cell_type": "markdown",
      "metadata": {
        "id": "PdEMVl7eGsXH"
      },
      "source": [
        "The optimiser takes steps and during each step, optimises the values of our parameters using gradient descent such that the cost is minimised. \n",
        "\n",
        "With initially random parameters, there is a high chance that we get 0 accuracy on the first few steps. Now, these parameters are optimised to reduce the cost, and by the end of a sufficiently large number of steps, we get a close approximation of the transformation we need."
      ]
    },
    {
      "cell_type": "code",
      "metadata": {
        "colab": {
          "base_uri": "https://localhost:8080/"
        },
        "id": "m-QU7ohtWc-S",
        "outputId": "32c93121-16e9-4eef-82f3-b34656edd5e6"
      },
      "source": [
        "# Parameter Optimisation Loop\n",
        "\n",
        "for step in range(steps):\n",
        "  params = opt.step(lambda v: cost(v), params)\n",
        "  \n",
        "  weights = params[0]\n",
        "  predictions = [np.sign(circuit(weights, state_id)) for state_id in range(len(target_states))]\n",
        "\n",
        "  if not (step+1) % 10:\n",
        "    print(f\"step {step+1} -- accuracy: {accuracy(predictions)} , cost: {np.round(cost(params), decimals=4)}\")"
      ],
      "execution_count": 11,
      "outputs": [
        {
          "output_type": "stream",
          "name": "stdout",
          "text": [
            "step 10 -- accuracy: 0.0 , cost: 9.5945\n",
            "step 20 -- accuracy: 0.0 , cost: 6.2187\n",
            "step 30 -- accuracy: 0.5 , cost: 3.3847\n",
            "step 40 -- accuracy: 0.25 , cost: 3.0493\n",
            "step 50 -- accuracy: 0.75 , cost: 2.8349\n",
            "step 60 -- accuracy: 0.75 , cost: 2.6647\n",
            "step 70 -- accuracy: 1.0 , cost: 2.5269\n",
            "step 80 -- accuracy: 1.0 , cost: 2.4179\n",
            "step 90 -- accuracy: 1.0 , cost: 2.3311\n",
            "step 100 -- accuracy: 1.0 , cost: 2.2615\n",
            "step 110 -- accuracy: 1.0 , cost: 2.2065\n",
            "step 120 -- accuracy: 1.0 , cost: 2.1634\n",
            "step 130 -- accuracy: 1.0 , cost: 2.1291\n",
            "step 140 -- accuracy: 1.0 , cost: 2.1004\n",
            "step 150 -- accuracy: 1.0 , cost: 2.0747\n",
            "step 160 -- accuracy: 1.0 , cost: 2.0499\n",
            "step 170 -- accuracy: 1.0 , cost: 2.0248\n",
            "step 180 -- accuracy: 1.0 , cost: 1.9984\n",
            "step 190 -- accuracy: 1.0 , cost: 1.9702\n",
            "step 200 -- accuracy: 1.0 , cost: 1.9399\n"
          ]
        }
      ]
    },
    {
      "cell_type": "markdown",
      "metadata": {
        "id": "xDRpUNrVHLkx"
      },
      "source": [
        "Finally, the circuit has been trained. And now it is time to put it to use by testing it on our input states."
      ]
    },
    {
      "cell_type": "code",
      "metadata": {
        "colab": {
          "base_uri": "https://localhost:8080/"
        },
        "id": "6Cc4I_mAsxBU",
        "outputId": "7972daaa-07a1-4513-87fe-b73fc0c3b785"
      },
      "source": [
        "# running the circuit on the input states with the optimised parameters\n",
        "circuit_tester(params[0])"
      ],
      "execution_count": 12,
      "outputs": [
        {
          "output_type": "stream",
          "name": "stdout",
          "text": [
            "Transformations done:\n",
            "(input -> output)\n",
            "\n",
            "0111 -> 0011\n",
            "target: 0011\n",
            "\n",
            "1101 -> 0101\n",
            "target: 0101\n",
            "\n",
            "0000 -> 1010\n",
            "target: 1010\n",
            "\n",
            "1001 -> 1100\n",
            "target: 1100\n",
            "\n"
          ]
        }
      ]
    },
    {
      "cell_type": "markdown",
      "metadata": {
        "id": "Lnjb1-BNeDEP"
      },
      "source": [
        "As seen above, the required target states are obtained as output with our variational circuit."
      ]
    },
    {
      "cell_type": "markdown",
      "metadata": {
        "id": "eVtBcHM1HYRA"
      },
      "source": [
        "\n",
        "\n",
        "One interesting question as mentioned in the task was:\n",
        "\n",
        "<b> What will happen if a different random state is given as input to our trained circuit?</b>\n",
        "\n",
        "<b>Speculation</b>: The circuit is a combination of rotation gates (and CNOT gates) trained only to transform the old inputs states to the desired out states. On passing a different input state, the circuit will transform it to some random state (which might not necessarily be part of our previous target states). There is also a possibility that it transforms into a superposition of states. So every time we run the code, there is a chance we might even get different outputs.\n"
      ]
    },
    {
      "cell_type": "code",
      "metadata": {
        "id": "SkfCgb52JNVY"
      },
      "source": [
        "input_states = [\"1100\"] # this state was not present in our previous list"
      ],
      "execution_count": 13,
      "outputs": []
    },
    {
      "cell_type": "code",
      "metadata": {
        "colab": {
          "base_uri": "https://localhost:8080/"
        },
        "id": "EhfjXqD4JNaB",
        "outputId": "cbf8cd60-2834-49e7-e1fd-b335f07ef1d0"
      },
      "source": [
        "circuit_tester(params[0], target=False)"
      ],
      "execution_count": 14,
      "outputs": [
        {
          "output_type": "stream",
          "name": "stdout",
          "text": [
            "Transformations done:\n",
            "(input -> output)\n",
            "\n",
            "1100 -> 0010\n"
          ]
        }
      ]
    },
    {
      "cell_type": "markdown",
      "metadata": {
        "id": "5kSyC3oVLuwe"
      },
      "source": [
        "As seen above, the new input state transformed into some random state."
      ]
    },
    {
      "cell_type": "markdown",
      "metadata": {
        "id": "F8IRBc1f7UhF"
      },
      "source": [
        "We can try doing this for all 4 qubit states that are not in superposition:"
      ]
    },
    {
      "cell_type": "code",
      "metadata": {
        "colab": {
          "base_uri": "https://localhost:8080/"
        },
        "id": "kuwPgLUL7Rfq",
        "outputId": "2dfe6e8c-7554-4cfe-e0e4-d51353ac4c78"
      },
      "source": [
        "input_states = []\n",
        "for i in range(16):\n",
        "  bin = \"{0:b}\".format(i)\n",
        "  bin = \"0\" * max(0,4 - len(bin)) + bin\n",
        "  input_states.append(bin) \n",
        "print(\"input states:\",input_states) "
      ],
      "execution_count": 15,
      "outputs": [
        {
          "output_type": "stream",
          "name": "stdout",
          "text": [
            "input states: ['0000', '0001', '0010', '0011', '0100', '0101', '0110', '0111', '1000', '1001', '1010', '1011', '1100', '1101', '1110', '1111']\n"
          ]
        }
      ]
    },
    {
      "cell_type": "code",
      "metadata": {
        "colab": {
          "base_uri": "https://localhost:8080/"
        },
        "id": "X-RsA8FE9MTR",
        "outputId": "6c30a405-caf6-49e3-8d9c-50c8375cb5f2"
      },
      "source": [
        "circuit_tester(params[0], target=False)"
      ],
      "execution_count": 16,
      "outputs": [
        {
          "output_type": "stream",
          "name": "stdout",
          "text": [
            "Transformations done:\n",
            "(input -> output)\n",
            "\n",
            "0000 -> 1010\n",
            "0001 -> 1000\n",
            "0010 -> 1100\n",
            "0011 -> 0100\n",
            "0100 -> 0100\n",
            "0101 -> 1011\n",
            "0110 -> 0111\n",
            "0111 -> 0011\n",
            "1000 -> 0101\n",
            "1001 -> 1100\n",
            "1010 -> 0001\n",
            "1011 -> 0010\n",
            "1100 -> 0010\n",
            "1101 -> 0101\n",
            "1110 -> 1001\n",
            "1111 -> 1111\n"
          ]
        }
      ]
    }
  ]
}